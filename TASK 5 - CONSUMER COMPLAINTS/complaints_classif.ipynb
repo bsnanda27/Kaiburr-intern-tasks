{
 "cells": [
  {
   "cell_type": "code",
   "execution_count": 1,
   "metadata": {},
   "outputs": [],
   "source": [
    "import pandas as pd\n",
    "import numpy as np\n",
    "import re\n",
    "import string\n",
    "import seaborn as sns\n",
    "import matplotlib.pyplot as plt\n",
    "from sklearn.model_selection import train_test_split\n",
    "from sklearn.feature_extraction.text import TfidataVectorizer\n",
    "from sklearn.linear_model import LogisticRegression\n",
    "from sklearn.naive_bayes import MultinomialNB\n",
    "from sklearn.ensemble import RandomForestClassifier\n",
    "from sklearn.svm import SVC\n",
    "from sklearn.metrics import accuracy_score, classification_report"
   ]
  },
  {
   "cell_type": "code",
   "execution_count": 2,
   "metadata": {},
   "outputs": [
    {
     "name": "stderr",
     "output_type": "stream",
     "text": [
      "C:\\Users\\prana\\AppData\\Local\\Temp\\ipykernel_23752\\1047253087.py:1: DtypeWarning: Columns (16) have mixed types. Specify dtype option on import or set low_memory=False.\n",
      "  df = pd.read_csv(\"complaints.csv\")\n"
     ]
    }
   ],
   "source": [
    "data = pd.read_csv(\"complaints.csv\")"
   ]
  },
  {
   "cell_type": "code",
   "execution_count": 3,
   "metadata": {},
   "outputs": [
    {
     "data": {
      "text/html": [
       "<div>\n",
       "<style scoped>\n",
       "    .dataframe tbody tr th:only-of-type {\n",
       "        vertical-align: middle;\n",
       "    }\n",
       "\n",
       "    .dataframe tbody tr th {\n",
       "        vertical-align: top;\n",
       "    }\n",
       "\n",
       "    .dataframe thead th {\n",
       "        text-align: right;\n",
       "    }\n",
       "</style>\n",
       "<table border=\"1\" class=\"dataframe\">\n",
       "  <thead>\n",
       "    <tr style=\"text-align: right;\">\n",
       "      <th></th>\n",
       "      <th>Date received</th>\n",
       "      <th>Product</th>\n",
       "      <th>Sub-product</th>\n",
       "      <th>Issue</th>\n",
       "      <th>Sub-issue</th>\n",
       "      <th>Consumer complaint narrative</th>\n",
       "      <th>Company public response</th>\n",
       "      <th>Company</th>\n",
       "      <th>State</th>\n",
       "      <th>ZIP code</th>\n",
       "      <th>Tags</th>\n",
       "      <th>Consumer consent provided</th>\n",
       "      <th>Submitted via</th>\n",
       "      <th>Date sent to company</th>\n",
       "      <th>Company response to consumer</th>\n",
       "      <th>Timely response</th>\n",
       "      <th>Consumer disputed</th>\n",
       "      <th>Complaint ID</th>\n",
       "    </tr>\n",
       "  </thead>\n",
       "  <tbody>\n",
       "    <tr>\n",
       "      <th>0</th>\n",
       "      <td>29-01-2025</td>\n",
       "      <td>Credit reporting or other personal consumer re...</td>\n",
       "      <td>Credit reporting</td>\n",
       "      <td>Incorrect information on your report</td>\n",
       "      <td>Account status incorrect</td>\n",
       "      <td>NaN</td>\n",
       "      <td>NaN</td>\n",
       "      <td>Experian Information Solutions Inc.</td>\n",
       "      <td>NY</td>\n",
       "      <td>12543</td>\n",
       "      <td>NaN</td>\n",
       "      <td>NaN</td>\n",
       "      <td>Web</td>\n",
       "      <td>29-01-2025</td>\n",
       "      <td>In progress</td>\n",
       "      <td>Yes</td>\n",
       "      <td>NaN</td>\n",
       "      <td>11825440</td>\n",
       "    </tr>\n",
       "    <tr>\n",
       "      <th>1</th>\n",
       "      <td>31-01-2025</td>\n",
       "      <td>Credit reporting or other personal consumer re...</td>\n",
       "      <td>Credit reporting</td>\n",
       "      <td>Incorrect information on your report</td>\n",
       "      <td>Account information incorrect</td>\n",
       "      <td>NaN</td>\n",
       "      <td>NaN</td>\n",
       "      <td>TRANSUNION INTERMEDIATE HOLDINGS, INC.</td>\n",
       "      <td>OH</td>\n",
       "      <td>43207</td>\n",
       "      <td>NaN</td>\n",
       "      <td>NaN</td>\n",
       "      <td>Web</td>\n",
       "      <td>31-01-2025</td>\n",
       "      <td>In progress</td>\n",
       "      <td>Yes</td>\n",
       "      <td>NaN</td>\n",
       "      <td>11844238</td>\n",
       "    </tr>\n",
       "    <tr>\n",
       "      <th>2</th>\n",
       "      <td>30-01-2025</td>\n",
       "      <td>Credit reporting or other personal consumer re...</td>\n",
       "      <td>Credit reporting</td>\n",
       "      <td>Improper use of your report</td>\n",
       "      <td>Reporting company used your report improperly</td>\n",
       "      <td>NaN</td>\n",
       "      <td>NaN</td>\n",
       "      <td>Experian Information Solutions Inc.</td>\n",
       "      <td>NV</td>\n",
       "      <td>89148</td>\n",
       "      <td>NaN</td>\n",
       "      <td>NaN</td>\n",
       "      <td>Web</td>\n",
       "      <td>30-01-2025</td>\n",
       "      <td>In progress</td>\n",
       "      <td>Yes</td>\n",
       "      <td>NaN</td>\n",
       "      <td>11844247</td>\n",
       "    </tr>\n",
       "    <tr>\n",
       "      <th>3</th>\n",
       "      <td>29-01-2025</td>\n",
       "      <td>Payday loan, title loan, personal loan, or adv...</td>\n",
       "      <td>Installment loan</td>\n",
       "      <td>Problem when making payments</td>\n",
       "      <td>NaN</td>\n",
       "      <td>NaN</td>\n",
       "      <td>NaN</td>\n",
       "      <td>TD BANK US HOLDING COMPANY</td>\n",
       "      <td>FL</td>\n",
       "      <td>33055</td>\n",
       "      <td>NaN</td>\n",
       "      <td>NaN</td>\n",
       "      <td>Phone</td>\n",
       "      <td>04-02-2025</td>\n",
       "      <td>In progress</td>\n",
       "      <td>Yes</td>\n",
       "      <td>NaN</td>\n",
       "      <td>11824206</td>\n",
       "    </tr>\n",
       "    <tr>\n",
       "      <th>4</th>\n",
       "      <td>28-01-2025</td>\n",
       "      <td>Mortgage</td>\n",
       "      <td>Conventional home mortgage</td>\n",
       "      <td>Applying for a mortgage or refinancing an exis...</td>\n",
       "      <td>Trying to communicate with the company to fix ...</td>\n",
       "      <td>NaN</td>\n",
       "      <td>NaN</td>\n",
       "      <td>NEXA Mortgage, LLC</td>\n",
       "      <td>CA</td>\n",
       "      <td>95370</td>\n",
       "      <td>NaN</td>\n",
       "      <td>NaN</td>\n",
       "      <td>Phone</td>\n",
       "      <td>06-02-2025</td>\n",
       "      <td>In progress</td>\n",
       "      <td>Yes</td>\n",
       "      <td>NaN</td>\n",
       "      <td>11805339</td>\n",
       "    </tr>\n",
       "  </tbody>\n",
       "</table>\n",
       "</div>"
      ],
      "text/plain": [
       "  Date received                                            Product  \\\n",
       "0    29-01-2025  Credit reporting or other personal consumer re...   \n",
       "1    31-01-2025  Credit reporting or other personal consumer re...   \n",
       "2    30-01-2025  Credit reporting or other personal consumer re...   \n",
       "3    29-01-2025  Payday loan, title loan, personal loan, or adv...   \n",
       "4    28-01-2025                                           Mortgage   \n",
       "\n",
       "                  Sub-product  \\\n",
       "0            Credit reporting   \n",
       "1            Credit reporting   \n",
       "2            Credit reporting   \n",
       "3            Installment loan   \n",
       "4  Conventional home mortgage   \n",
       "\n",
       "                                               Issue  \\\n",
       "0               Incorrect information on your report   \n",
       "1               Incorrect information on your report   \n",
       "2                        Improper use of your report   \n",
       "3                       Problem when making payments   \n",
       "4  Applying for a mortgage or refinancing an exis...   \n",
       "\n",
       "                                           Sub-issue  \\\n",
       "0                           Account status incorrect   \n",
       "1                      Account information incorrect   \n",
       "2      Reporting company used your report improperly   \n",
       "3                                                NaN   \n",
       "4  Trying to communicate with the company to fix ...   \n",
       "\n",
       "  Consumer complaint narrative Company public response  \\\n",
       "0                          NaN                     NaN   \n",
       "1                          NaN                     NaN   \n",
       "2                          NaN                     NaN   \n",
       "3                          NaN                     NaN   \n",
       "4                          NaN                     NaN   \n",
       "\n",
       "                                  Company State ZIP code Tags  \\\n",
       "0     Experian Information Solutions Inc.    NY    12543  NaN   \n",
       "1  TRANSUNION INTERMEDIATE HOLDINGS, INC.    OH    43207  NaN   \n",
       "2     Experian Information Solutions Inc.    NV    89148  NaN   \n",
       "3              TD BANK US HOLDING COMPANY    FL    33055  NaN   \n",
       "4                      NEXA Mortgage, LLC    CA    95370  NaN   \n",
       "\n",
       "  Consumer consent provided Submitted via Date sent to company  \\\n",
       "0                       NaN           Web           29-01-2025   \n",
       "1                       NaN           Web           31-01-2025   \n",
       "2                       NaN           Web           30-01-2025   \n",
       "3                       NaN         Phone           04-02-2025   \n",
       "4                       NaN         Phone           06-02-2025   \n",
       "\n",
       "  Company response to consumer Timely response Consumer disputed  Complaint ID  \n",
       "0                  In progress             Yes               NaN      11825440  \n",
       "1                  In progress             Yes               NaN      11844238  \n",
       "2                  In progress             Yes               NaN      11844247  \n",
       "3                  In progress             Yes               NaN      11824206  \n",
       "4                  In progress             Yes               NaN      11805339  "
      ]
     },
     "execution_count": 3,
     "metadata": {},
     "output_type": "execute_result"
    }
   ],
   "source": [
    "data.head()"
   ]
  },
  {
   "cell_type": "code",
   "execution_count": 4,
   "metadata": {},
   "outputs": [
    {
     "data": {
      "text/html": [
       "<div>\n",
       "<style scoped>\n",
       "    .dataframe tbody tr th:only-of-type {\n",
       "        vertical-align: middle;\n",
       "    }\n",
       "\n",
       "    .dataframe tbody tr th {\n",
       "        vertical-align: top;\n",
       "    }\n",
       "\n",
       "    .dataframe thead th {\n",
       "        text-align: right;\n",
       "    }\n",
       "</style>\n",
       "<table border=\"1\" class=\"dataframe\">\n",
       "  <thead>\n",
       "    <tr style=\"text-align: right;\">\n",
       "      <th></th>\n",
       "      <th>Date received</th>\n",
       "      <th>Product</th>\n",
       "      <th>Sub-product</th>\n",
       "      <th>Issue</th>\n",
       "      <th>Sub-issue</th>\n",
       "      <th>Consumer complaint narrative</th>\n",
       "      <th>Company public response</th>\n",
       "      <th>Company</th>\n",
       "      <th>State</th>\n",
       "      <th>ZIP code</th>\n",
       "      <th>Tags</th>\n",
       "      <th>Consumer consent provided</th>\n",
       "      <th>Submitted via</th>\n",
       "      <th>Date sent to company</th>\n",
       "      <th>Company response to consumer</th>\n",
       "      <th>Timely response</th>\n",
       "      <th>Consumer disputed</th>\n",
       "      <th>Complaint ID</th>\n",
       "    </tr>\n",
       "  </thead>\n",
       "  <tbody>\n",
       "    <tr>\n",
       "      <th>1048570</th>\n",
       "      <td>26-09-2023</td>\n",
       "      <td>Credit reporting or other personal consumer re...</td>\n",
       "      <td>Credit reporting</td>\n",
       "      <td>Problem with a company's investigation into an...</td>\n",
       "      <td>Their investigation did not fix an error on yo...</td>\n",
       "      <td>Despite multiple written requests, the unverif...</td>\n",
       "      <td>Company has responded to the consumer and the ...</td>\n",
       "      <td>Experian Information Solutions Inc.</td>\n",
       "      <td>FL</td>\n",
       "      <td>342XX</td>\n",
       "      <td>NaN</td>\n",
       "      <td>Consent provided</td>\n",
       "      <td>Web</td>\n",
       "      <td>26-09-2023</td>\n",
       "      <td>Closed with explanation</td>\n",
       "      <td>Yes</td>\n",
       "      <td>NaN</td>\n",
       "      <td>7606237</td>\n",
       "    </tr>\n",
       "    <tr>\n",
       "      <th>1048571</th>\n",
       "      <td>26-09-2023</td>\n",
       "      <td>Credit reporting or other personal consumer re...</td>\n",
       "      <td>Credit reporting</td>\n",
       "      <td>Incorrect information on your report</td>\n",
       "      <td>Information belongs to someone else</td>\n",
       "      <td>NaN</td>\n",
       "      <td>Company has responded to the consumer and the ...</td>\n",
       "      <td>TRANSUNION INTERMEDIATE HOLDINGS, INC.</td>\n",
       "      <td>MI</td>\n",
       "      <td>48180</td>\n",
       "      <td>NaN</td>\n",
       "      <td>Consent not provided</td>\n",
       "      <td>Web</td>\n",
       "      <td>26-09-2023</td>\n",
       "      <td>Closed with explanation</td>\n",
       "      <td>Yes</td>\n",
       "      <td>NaN</td>\n",
       "      <td>7606239</td>\n",
       "    </tr>\n",
       "    <tr>\n",
       "      <th>1048572</th>\n",
       "      <td>21-12-2023</td>\n",
       "      <td>Credit reporting or other personal consumer re...</td>\n",
       "      <td>Credit reporting</td>\n",
       "      <td>Incorrect information on your report</td>\n",
       "      <td>Information belongs to someone else</td>\n",
       "      <td>I firmly insist on the removal of these mislea...</td>\n",
       "      <td>Company has responded to the consumer and the ...</td>\n",
       "      <td>Experian Information Solutions Inc.</td>\n",
       "      <td>TX</td>\n",
       "      <td>76227</td>\n",
       "      <td>NaN</td>\n",
       "      <td>Consent provided</td>\n",
       "      <td>Web</td>\n",
       "      <td>21-12-2023</td>\n",
       "      <td>Closed with explanation</td>\n",
       "      <td>Yes</td>\n",
       "      <td>NaN</td>\n",
       "      <td>8043790</td>\n",
       "    </tr>\n",
       "    <tr>\n",
       "      <th>1048573</th>\n",
       "      <td>21-12-2023</td>\n",
       "      <td>Credit reporting or other personal consumer re...</td>\n",
       "      <td>Credit reporting</td>\n",
       "      <td>Problem with a company's investigation into an...</td>\n",
       "      <td>Their investigation did not fix an error on yo...</td>\n",
       "      <td>I am beyond frustrated with the poor handling ...</td>\n",
       "      <td>Company has responded to the consumer and the ...</td>\n",
       "      <td>Experian Information Solutions Inc.</td>\n",
       "      <td>NY</td>\n",
       "      <td>10010</td>\n",
       "      <td>NaN</td>\n",
       "      <td>Consent provided</td>\n",
       "      <td>Web</td>\n",
       "      <td>21-12-2023</td>\n",
       "      <td>Closed with non-monetary relief</td>\n",
       "      <td>Yes</td>\n",
       "      <td>NaN</td>\n",
       "      <td>8032020</td>\n",
       "    </tr>\n",
       "    <tr>\n",
       "      <th>1048574</th>\n",
       "      <td>22-12-2023</td>\n",
       "      <td>Credit reporting or other personal consumer re...</td>\n",
       "      <td>Credit reporting</td>\n",
       "      <td>Incorrect information on your report</td>\n",
       "      <td>Information belongs to someone else</td>\n",
       "      <td>15 USC 1681 a ( d ) ( 2 ) ( A ) ( i ) clearly ...</td>\n",
       "      <td>NaN</td>\n",
       "      <td>EQUIFAX, INC.</td>\n",
       "      <td>IL</td>\n",
       "      <td>604XX</td>\n",
       "      <td>NaN</td>\n",
       "      <td>Consent provided</td>\n",
       "      <td>Web</td>\n",
       "      <td>22-12-2023</td>\n",
       "      <td>Closed with non-monetary relief</td>\n",
       "      <td>Yes</td>\n",
       "      <td>NaN</td>\n",
       "      <td>8047115</td>\n",
       "    </tr>\n",
       "  </tbody>\n",
       "</table>\n",
       "</div>"
      ],
      "text/plain": [
       "        Date received                                            Product  \\\n",
       "1048570    26-09-2023  Credit reporting or other personal consumer re...   \n",
       "1048571    26-09-2023  Credit reporting or other personal consumer re...   \n",
       "1048572    21-12-2023  Credit reporting or other personal consumer re...   \n",
       "1048573    21-12-2023  Credit reporting or other personal consumer re...   \n",
       "1048574    22-12-2023  Credit reporting or other personal consumer re...   \n",
       "\n",
       "              Sub-product                                              Issue  \\\n",
       "1048570  Credit reporting  Problem with a company's investigation into an...   \n",
       "1048571  Credit reporting               Incorrect information on your report   \n",
       "1048572  Credit reporting               Incorrect information on your report   \n",
       "1048573  Credit reporting  Problem with a company's investigation into an...   \n",
       "1048574  Credit reporting               Incorrect information on your report   \n",
       "\n",
       "                                                 Sub-issue  \\\n",
       "1048570  Their investigation did not fix an error on yo...   \n",
       "1048571                Information belongs to someone else   \n",
       "1048572                Information belongs to someone else   \n",
       "1048573  Their investigation did not fix an error on yo...   \n",
       "1048574                Information belongs to someone else   \n",
       "\n",
       "                              Consumer complaint narrative  \\\n",
       "1048570  Despite multiple written requests, the unverif...   \n",
       "1048571                                                NaN   \n",
       "1048572  I firmly insist on the removal of these mislea...   \n",
       "1048573  I am beyond frustrated with the poor handling ...   \n",
       "1048574  15 USC 1681 a ( d ) ( 2 ) ( A ) ( i ) clearly ...   \n",
       "\n",
       "                                   Company public response  \\\n",
       "1048570  Company has responded to the consumer and the ...   \n",
       "1048571  Company has responded to the consumer and the ...   \n",
       "1048572  Company has responded to the consumer and the ...   \n",
       "1048573  Company has responded to the consumer and the ...   \n",
       "1048574                                                NaN   \n",
       "\n",
       "                                        Company State ZIP code Tags  \\\n",
       "1048570     Experian Information Solutions Inc.    FL    342XX  NaN   \n",
       "1048571  TRANSUNION INTERMEDIATE HOLDINGS, INC.    MI    48180  NaN   \n",
       "1048572     Experian Information Solutions Inc.    TX    76227  NaN   \n",
       "1048573     Experian Information Solutions Inc.    NY    10010  NaN   \n",
       "1048574                           EQUIFAX, INC.    IL    604XX  NaN   \n",
       "\n",
       "        Consumer consent provided Submitted via Date sent to company  \\\n",
       "1048570          Consent provided           Web           26-09-2023   \n",
       "1048571      Consent not provided           Web           26-09-2023   \n",
       "1048572          Consent provided           Web           21-12-2023   \n",
       "1048573          Consent provided           Web           21-12-2023   \n",
       "1048574          Consent provided           Web           22-12-2023   \n",
       "\n",
       "            Company response to consumer Timely response Consumer disputed  \\\n",
       "1048570          Closed with explanation             Yes               NaN   \n",
       "1048571          Closed with explanation             Yes               NaN   \n",
       "1048572          Closed with explanation             Yes               NaN   \n",
       "1048573  Closed with non-monetary relief             Yes               NaN   \n",
       "1048574  Closed with non-monetary relief             Yes               NaN   \n",
       "\n",
       "         Complaint ID  \n",
       "1048570       7606237  \n",
       "1048571       7606239  \n",
       "1048572       8043790  \n",
       "1048573       8032020  \n",
       "1048574       8047115  "
      ]
     },
     "execution_count": 4,
     "metadata": {},
     "output_type": "execute_result"
    }
   ],
   "source": [
    "data.tail()"
   ]
  },
  {
   "cell_type": "code",
   "execution_count": 5,
   "metadata": {},
   "outputs": [
    {
     "name": "stdout",
     "output_type": "stream",
     "text": [
      "<class 'pandas.core.frame.DataFrame'>\n",
      "RangeIndex: 1048575 entries, 0 to 1048574\n",
      "Data columns (total 18 columns):\n",
      " #   Column                        Non-Null Count    Dtype \n",
      "---  ------                        --------------    ----- \n",
      " 0   Date received                 1048575 non-null  object\n",
      " 1   Product                       1048575 non-null  object\n",
      " 2   Sub-product                   1047701 non-null  object\n",
      " 3   Issue                         1048575 non-null  object\n",
      " 4   Sub-issue                     988638 non-null   object\n",
      " 5   Consumer complaint narrative  134061 non-null   object\n",
      " 6   Company public response       315505 non-null   object\n",
      " 7   Company                       1048575 non-null  object\n",
      " 8   State                         1046250 non-null  object\n",
      " 9   ZIP code                      1048546 non-null  object\n",
      " 10  Tags                          39998 non-null    object\n",
      " 11  Consumer consent provided     440484 non-null   object\n",
      " 12  Submitted via                 1048575 non-null  object\n",
      " 13  Date sent to company          1048575 non-null  object\n",
      " 14  Company response to consumer  1048575 non-null  object\n",
      " 15  Timely response               1048575 non-null  object\n",
      " 16  Consumer disputed             2317 non-null     object\n",
      " 17  Complaint ID                  1048575 non-null  int64 \n",
      "dtypes: int64(1), object(17)\n",
      "memory usage: 144.0+ MB\n"
     ]
    }
   ],
   "source": [
    "data.info()"
   ]
  },
  {
   "cell_type": "code",
   "execution_count": 6,
   "metadata": {},
   "outputs": [
    {
     "data": {
      "text/html": [
       "<div>\n",
       "<style scoped>\n",
       "    .dataframe tbody tr th:only-of-type {\n",
       "        vertical-align: middle;\n",
       "    }\n",
       "\n",
       "    .dataframe tbody tr th {\n",
       "        vertical-align: top;\n",
       "    }\n",
       "\n",
       "    .dataframe thead th {\n",
       "        text-align: right;\n",
       "    }\n",
       "</style>\n",
       "<table border=\"1\" class=\"dataframe\">\n",
       "  <thead>\n",
       "    <tr style=\"text-align: right;\">\n",
       "      <th></th>\n",
       "      <th>Date received</th>\n",
       "      <th>Product</th>\n",
       "      <th>Sub-product</th>\n",
       "      <th>Issue</th>\n",
       "      <th>Sub-issue</th>\n",
       "      <th>Consumer complaint narrative</th>\n",
       "      <th>Company public response</th>\n",
       "      <th>Company</th>\n",
       "      <th>State</th>\n",
       "      <th>ZIP code</th>\n",
       "      <th>Tags</th>\n",
       "      <th>Consumer consent provided</th>\n",
       "      <th>Submitted via</th>\n",
       "      <th>Date sent to company</th>\n",
       "      <th>Company response to consumer</th>\n",
       "      <th>Timely response</th>\n",
       "      <th>Consumer disputed</th>\n",
       "      <th>Complaint ID</th>\n",
       "    </tr>\n",
       "  </thead>\n",
       "  <tbody>\n",
       "    <tr>\n",
       "      <th>count</th>\n",
       "      <td>1048575</td>\n",
       "      <td>1048575</td>\n",
       "      <td>1047701</td>\n",
       "      <td>1048575</td>\n",
       "      <td>988638</td>\n",
       "      <td>134061</td>\n",
       "      <td>315505</td>\n",
       "      <td>1048575</td>\n",
       "      <td>1046250</td>\n",
       "      <td>1048546</td>\n",
       "      <td>39998</td>\n",
       "      <td>440484</td>\n",
       "      <td>1048575</td>\n",
       "      <td>1048575</td>\n",
       "      <td>1048575</td>\n",
       "      <td>1048575</td>\n",
       "      <td>2317</td>\n",
       "      <td>1.048575e+06</td>\n",
       "    </tr>\n",
       "    <tr>\n",
       "      <th>unique</th>\n",
       "      <td>1920</td>\n",
       "      <td>20</td>\n",
       "      <td>79</td>\n",
       "      <td>156</td>\n",
       "      <td>262</td>\n",
       "      <td>86176</td>\n",
       "      <td>11</td>\n",
       "      <td>2484</td>\n",
       "      <td>60</td>\n",
       "      <td>16798</td>\n",
       "      <td>3</td>\n",
       "      <td>4</td>\n",
       "      <td>7</td>\n",
       "      <td>1939</td>\n",
       "      <td>8</td>\n",
       "      <td>2</td>\n",
       "      <td>2</td>\n",
       "      <td>NaN</td>\n",
       "    </tr>\n",
       "    <tr>\n",
       "      <th>top</th>\n",
       "      <td>17-01-2025</td>\n",
       "      <td>Credit reporting or other personal consumer re...</td>\n",
       "      <td>Credit reporting</td>\n",
       "      <td>Incorrect information on your report</td>\n",
       "      <td>Information belongs to someone else</td>\n",
       "      <td>In accordance with the Fair Credit Reporting a...</td>\n",
       "      <td>Company has responded to the consumer and the ...</td>\n",
       "      <td>Experian Information Solutions Inc.</td>\n",
       "      <td>FL</td>\n",
       "      <td>XXXXX</td>\n",
       "      <td>Servicemember</td>\n",
       "      <td>Consent not provided</td>\n",
       "      <td>Web</td>\n",
       "      <td>17-01-2025</td>\n",
       "      <td>In progress</td>\n",
       "      <td>Yes</td>\n",
       "      <td>No</td>\n",
       "      <td>NaN</td>\n",
       "    </tr>\n",
       "    <tr>\n",
       "      <th>freq</th>\n",
       "      <td>32859</td>\n",
       "      <td>876490</td>\n",
       "      <td>874026</td>\n",
       "      <td>471219</td>\n",
       "      <td>290268</td>\n",
       "      <td>2239</td>\n",
       "      <td>301153</td>\n",
       "      <td>290556</td>\n",
       "      <td>146272</td>\n",
       "      <td>13155</td>\n",
       "      <td>30790</td>\n",
       "      <td>286394</td>\n",
       "      <td>1037450</td>\n",
       "      <td>28437</td>\n",
       "      <td>441848</td>\n",
       "      <td>1045995</td>\n",
       "      <td>1922</td>\n",
       "      <td>NaN</td>\n",
       "    </tr>\n",
       "    <tr>\n",
       "      <th>mean</th>\n",
       "      <td>NaN</td>\n",
       "      <td>NaN</td>\n",
       "      <td>NaN</td>\n",
       "      <td>NaN</td>\n",
       "      <td>NaN</td>\n",
       "      <td>NaN</td>\n",
       "      <td>NaN</td>\n",
       "      <td>NaN</td>\n",
       "      <td>NaN</td>\n",
       "      <td>NaN</td>\n",
       "      <td>NaN</td>\n",
       "      <td>NaN</td>\n",
       "      <td>NaN</td>\n",
       "      <td>NaN</td>\n",
       "      <td>NaN</td>\n",
       "      <td>NaN</td>\n",
       "      <td>NaN</td>\n",
       "      <td>1.116892e+07</td>\n",
       "    </tr>\n",
       "    <tr>\n",
       "      <th>std</th>\n",
       "      <td>NaN</td>\n",
       "      <td>NaN</td>\n",
       "      <td>NaN</td>\n",
       "      <td>NaN</td>\n",
       "      <td>NaN</td>\n",
       "      <td>NaN</td>\n",
       "      <td>NaN</td>\n",
       "      <td>NaN</td>\n",
       "      <td>NaN</td>\n",
       "      <td>NaN</td>\n",
       "      <td>NaN</td>\n",
       "      <td>NaN</td>\n",
       "      <td>NaN</td>\n",
       "      <td>NaN</td>\n",
       "      <td>NaN</td>\n",
       "      <td>NaN</td>\n",
       "      <td>NaN</td>\n",
       "      <td>1.055498e+06</td>\n",
       "    </tr>\n",
       "    <tr>\n",
       "      <th>min</th>\n",
       "      <td>NaN</td>\n",
       "      <td>NaN</td>\n",
       "      <td>NaN</td>\n",
       "      <td>NaN</td>\n",
       "      <td>NaN</td>\n",
       "      <td>NaN</td>\n",
       "      <td>NaN</td>\n",
       "      <td>NaN</td>\n",
       "      <td>NaN</td>\n",
       "      <td>NaN</td>\n",
       "      <td>NaN</td>\n",
       "      <td>NaN</td>\n",
       "      <td>NaN</td>\n",
       "      <td>NaN</td>\n",
       "      <td>NaN</td>\n",
       "      <td>NaN</td>\n",
       "      <td>NaN</td>\n",
       "      <td>1.430000e+02</td>\n",
       "    </tr>\n",
       "    <tr>\n",
       "      <th>25%</th>\n",
       "      <td>NaN</td>\n",
       "      <td>NaN</td>\n",
       "      <td>NaN</td>\n",
       "      <td>NaN</td>\n",
       "      <td>NaN</td>\n",
       "      <td>NaN</td>\n",
       "      <td>NaN</td>\n",
       "      <td>NaN</td>\n",
       "      <td>NaN</td>\n",
       "      <td>NaN</td>\n",
       "      <td>NaN</td>\n",
       "      <td>NaN</td>\n",
       "      <td>NaN</td>\n",
       "      <td>NaN</td>\n",
       "      <td>NaN</td>\n",
       "      <td>NaN</td>\n",
       "      <td>NaN</td>\n",
       "      <td>1.111255e+07</td>\n",
       "    </tr>\n",
       "    <tr>\n",
       "      <th>50%</th>\n",
       "      <td>NaN</td>\n",
       "      <td>NaN</td>\n",
       "      <td>NaN</td>\n",
       "      <td>NaN</td>\n",
       "      <td>NaN</td>\n",
       "      <td>NaN</td>\n",
       "      <td>NaN</td>\n",
       "      <td>NaN</td>\n",
       "      <td>NaN</td>\n",
       "      <td>NaN</td>\n",
       "      <td>NaN</td>\n",
       "      <td>NaN</td>\n",
       "      <td>NaN</td>\n",
       "      <td>NaN</td>\n",
       "      <td>NaN</td>\n",
       "      <td>NaN</td>\n",
       "      <td>NaN</td>\n",
       "      <td>1.143130e+07</td>\n",
       "    </tr>\n",
       "    <tr>\n",
       "      <th>75%</th>\n",
       "      <td>NaN</td>\n",
       "      <td>NaN</td>\n",
       "      <td>NaN</td>\n",
       "      <td>NaN</td>\n",
       "      <td>NaN</td>\n",
       "      <td>NaN</td>\n",
       "      <td>NaN</td>\n",
       "      <td>NaN</td>\n",
       "      <td>NaN</td>\n",
       "      <td>NaN</td>\n",
       "      <td>NaN</td>\n",
       "      <td>NaN</td>\n",
       "      <td>NaN</td>\n",
       "      <td>NaN</td>\n",
       "      <td>NaN</td>\n",
       "      <td>NaN</td>\n",
       "      <td>NaN</td>\n",
       "      <td>1.173564e+07</td>\n",
       "    </tr>\n",
       "    <tr>\n",
       "      <th>max</th>\n",
       "      <td>NaN</td>\n",
       "      <td>NaN</td>\n",
       "      <td>NaN</td>\n",
       "      <td>NaN</td>\n",
       "      <td>NaN</td>\n",
       "      <td>NaN</td>\n",
       "      <td>NaN</td>\n",
       "      <td>NaN</td>\n",
       "      <td>NaN</td>\n",
       "      <td>NaN</td>\n",
       "      <td>NaN</td>\n",
       "      <td>NaN</td>\n",
       "      <td>NaN</td>\n",
       "      <td>NaN</td>\n",
       "      <td>NaN</td>\n",
       "      <td>NaN</td>\n",
       "      <td>NaN</td>\n",
       "      <td>1.214262e+07</td>\n",
       "    </tr>\n",
       "  </tbody>\n",
       "</table>\n",
       "</div>"
      ],
      "text/plain": [
       "       Date received                                            Product  \\\n",
       "count        1048575                                            1048575   \n",
       "unique          1920                                                 20   \n",
       "top       17-01-2025  Credit reporting or other personal consumer re...   \n",
       "freq           32859                                             876490   \n",
       "mean             NaN                                                NaN   \n",
       "std              NaN                                                NaN   \n",
       "min              NaN                                                NaN   \n",
       "25%              NaN                                                NaN   \n",
       "50%              NaN                                                NaN   \n",
       "75%              NaN                                                NaN   \n",
       "max              NaN                                                NaN   \n",
       "\n",
       "             Sub-product                                 Issue  \\\n",
       "count            1047701                               1048575   \n",
       "unique                79                                   156   \n",
       "top     Credit reporting  Incorrect information on your report   \n",
       "freq              874026                                471219   \n",
       "mean                 NaN                                   NaN   \n",
       "std                  NaN                                   NaN   \n",
       "min                  NaN                                   NaN   \n",
       "25%                  NaN                                   NaN   \n",
       "50%                  NaN                                   NaN   \n",
       "75%                  NaN                                   NaN   \n",
       "max                  NaN                                   NaN   \n",
       "\n",
       "                                  Sub-issue  \\\n",
       "count                                988638   \n",
       "unique                                  262   \n",
       "top     Information belongs to someone else   \n",
       "freq                                 290268   \n",
       "mean                                    NaN   \n",
       "std                                     NaN   \n",
       "min                                     NaN   \n",
       "25%                                     NaN   \n",
       "50%                                     NaN   \n",
       "75%                                     NaN   \n",
       "max                                     NaN   \n",
       "\n",
       "                             Consumer complaint narrative  \\\n",
       "count                                              134061   \n",
       "unique                                              86176   \n",
       "top     In accordance with the Fair Credit Reporting a...   \n",
       "freq                                                 2239   \n",
       "mean                                                  NaN   \n",
       "std                                                   NaN   \n",
       "min                                                   NaN   \n",
       "25%                                                   NaN   \n",
       "50%                                                   NaN   \n",
       "75%                                                   NaN   \n",
       "max                                                   NaN   \n",
       "\n",
       "                                  Company public response  \\\n",
       "count                                              315505   \n",
       "unique                                                 11   \n",
       "top     Company has responded to the consumer and the ...   \n",
       "freq                                               301153   \n",
       "mean                                                  NaN   \n",
       "std                                                   NaN   \n",
       "min                                                   NaN   \n",
       "25%                                                   NaN   \n",
       "50%                                                   NaN   \n",
       "75%                                                   NaN   \n",
       "max                                                   NaN   \n",
       "\n",
       "                                    Company    State ZIP code           Tags  \\\n",
       "count                               1048575  1046250  1048546          39998   \n",
       "unique                                 2484       60    16798              3   \n",
       "top     Experian Information Solutions Inc.       FL    XXXXX  Servicemember   \n",
       "freq                                 290556   146272    13155          30790   \n",
       "mean                                    NaN      NaN      NaN            NaN   \n",
       "std                                     NaN      NaN      NaN            NaN   \n",
       "min                                     NaN      NaN      NaN            NaN   \n",
       "25%                                     NaN      NaN      NaN            NaN   \n",
       "50%                                     NaN      NaN      NaN            NaN   \n",
       "75%                                     NaN      NaN      NaN            NaN   \n",
       "max                                     NaN      NaN      NaN            NaN   \n",
       "\n",
       "       Consumer consent provided Submitted via Date sent to company  \\\n",
       "count                     440484       1048575              1048575   \n",
       "unique                         4             7                 1939   \n",
       "top         Consent not provided           Web           17-01-2025   \n",
       "freq                      286394       1037450                28437   \n",
       "mean                         NaN           NaN                  NaN   \n",
       "std                          NaN           NaN                  NaN   \n",
       "min                          NaN           NaN                  NaN   \n",
       "25%                          NaN           NaN                  NaN   \n",
       "50%                          NaN           NaN                  NaN   \n",
       "75%                          NaN           NaN                  NaN   \n",
       "max                          NaN           NaN                  NaN   \n",
       "\n",
       "       Company response to consumer Timely response Consumer disputed  \\\n",
       "count                       1048575         1048575              2317   \n",
       "unique                            8               2                 2   \n",
       "top                     In progress             Yes                No   \n",
       "freq                         441848         1045995              1922   \n",
       "mean                            NaN             NaN               NaN   \n",
       "std                             NaN             NaN               NaN   \n",
       "min                             NaN             NaN               NaN   \n",
       "25%                             NaN             NaN               NaN   \n",
       "50%                             NaN             NaN               NaN   \n",
       "75%                             NaN             NaN               NaN   \n",
       "max                             NaN             NaN               NaN   \n",
       "\n",
       "        Complaint ID  \n",
       "count   1.048575e+06  \n",
       "unique           NaN  \n",
       "top              NaN  \n",
       "freq             NaN  \n",
       "mean    1.116892e+07  \n",
       "std     1.055498e+06  \n",
       "min     1.430000e+02  \n",
       "25%     1.111255e+07  \n",
       "50%     1.143130e+07  \n",
       "75%     1.173564e+07  \n",
       "max     1.214262e+07  "
      ]
     },
     "execution_count": 6,
     "metadata": {},
     "output_type": "execute_result"
    }
   ],
   "source": [
    "data.describe(include=\"all\")"
   ]
  },
  {
   "cell_type": "code",
   "execution_count": 31,
   "metadata": {},
   "outputs": [
    {
     "data": {
      "text/plain": [
       "(934197, 4)"
      ]
     },
     "execution_count": 31,
     "metadata": {},
     "output_type": "execute_result"
    }
   ],
   "source": [
    "data.shape"
   ]
  },
  {
   "cell_type": "code",
   "execution_count": 32,
   "metadata": {},
   "outputs": [],
   "source": [
    "data = data[['Issue', 'Product']]"
   ]
  },
  {
   "cell_type": "markdown",
   "metadata": {},
   "source": [
    "category mapping"
   ]
  },
  {
   "cell_type": "code",
   "execution_count": 33,
   "metadata": {},
   "outputs": [],
   "source": [
    "category_mapping = {\n",
    "    \"Credit reporting or other personal consumer reports\": 0,\n",
    "    \"Debt collection\": 1,\n",
    "    \"Payday loan, title loan, personal loan, or advance loan\": 2,\n",
    "    \"Mortgage\": 3\n",
    "}\n",
    "data['Category'] = data['Product'].map(category_mapping)\n",
    "data.dropna(inplace=True)"
   ]
  },
  {
   "cell_type": "markdown",
   "metadata": {},
   "source": [
    "Text Preprocessing"
   ]
  },
  {
   "cell_type": "code",
   "execution_count": 34,
   "metadata": {},
   "outputs": [],
   "source": [
    "def clean_text(text):\n",
    "    text = text.lower()\n",
    "    text = re.sub(f\"[{string.punctuation}]\", \"\", text)\n",
    "    text = re.sub(r'\\d+', '', text)\n",
    "    return text\n",
    "\n",
    "data['Cleaned_Issue'] = data['Issue'].apply(clean_text)\n"
   ]
  },
  {
   "cell_type": "code",
   "execution_count": 35,
   "metadata": {},
   "outputs": [],
   "source": [
    "X_train, X_test, y_train, y_test = train_test_split(data['Cleaned_Issue'], data['Category'], test_size=0.2, random_state=42)"
   ]
  },
  {
   "cell_type": "markdown",
   "metadata": {},
   "source": [
    "Convert text to numeric features"
   ]
  },
  {
   "cell_type": "code",
   "execution_count": 36,
   "metadata": {},
   "outputs": [],
   "source": [
    "vectorizer = TfidataVectorizer()\n",
    "X_train_tfidata = vectorizer.fit_transform(X_train)\n",
    "X_test_tfidata = vectorizer.transform(X_test)"
   ]
  },
  {
   "cell_type": "markdown",
   "metadata": {},
   "source": [
    "LOGISTIC REGRESSION"
   ]
  },
  {
   "cell_type": "code",
   "execution_count": 37,
   "metadata": {},
   "outputs": [
    {
     "name": "stdout",
     "output_type": "stream",
     "text": [
      "0.9994005566259901\n"
     ]
    }
   ],
   "source": [
    "LR = LogisticRegression()\n",
    "LR.fit(X_train_tfidata, y_train)\n",
    "y_pred = LR.predict(X_test_tfidata)\n",
    "accuracy = accuracy_score(y_test, y_pred)\n",
    "print(accuracy)\n",
    "\n"
   ]
  },
  {
   "cell_type": "code",
   "execution_count": 38,
   "metadata": {},
   "outputs": [
    {
     "name": "stdout",
     "output_type": "stream",
     "text": [
      "              precision    recall  f1-score   support\n",
      "\n",
      "           0       1.00      1.00      1.00    175444\n",
      "           1       1.00      1.00      1.00      9834\n",
      "           2       0.99      0.88      0.93       453\n",
      "           3       1.00      0.95      0.97      1109\n",
      "\n",
      "    accuracy                           1.00    186840\n",
      "   macro avg       1.00      0.96      0.98    186840\n",
      "weighted avg       1.00      1.00      1.00    186840\n",
      "\n"
     ]
    }
   ],
   "source": [
    "print(classification_report(y_test, y_pred))"
   ]
  },
  {
   "cell_type": "code",
   "execution_count": 47,
   "metadata": {},
   "outputs": [
    {
     "name": "stdout",
     "output_type": "stream",
     "text": [
      "Logistic Regression Prediction: 3\n"
     ]
    }
   ],
   "source": [
    "def predict_category(sample_text):\n",
    "    sample_text_cleaned = clean_text(sample_text)\n",
    "    sample_vectorized = vectorizer.transform([sample_text_cleaned])\n",
    "    prediction = LR.predict(sample_vectorized)[0]\n",
    "    print(f\"Logistic Regression Prediction: {prediction}\")\n",
    "\n",
    "# Example sample input\n",
    "sample_input_LR = \"Trouble during payment process\"\n",
    "predict_category(sample_input_LR)"
   ]
  },
  {
   "cell_type": "code",
   "execution_count": 53,
   "metadata": {},
   "outputs": [
    {
     "name": "stdout",
     "output_type": "stream",
     "text": [
      "LR_predictions saved\n"
     ]
    }
   ],
   "source": [
    "output_data = X_test.to_frame()\n",
    "output_data['Actual'] = y_test.values\n",
    "output_data['Predicted'] = y_pred\n",
    "output_data.to_csv(f\"predictions_LR.csv\", index=False)\n",
    "print(\"LR_predictions saved\")\n"
   ]
  },
  {
   "cell_type": "markdown",
   "metadata": {},
   "source": [
    "NAIVE BAYES"
   ]
  },
  {
   "cell_type": "code",
   "execution_count": 40,
   "metadata": {},
   "outputs": [
    {
     "name": "stdout",
     "output_type": "stream",
     "text": [
      "0.9991061871119674\n"
     ]
    }
   ],
   "source": [
    "NB = MultinomialNB()\n",
    "NB.fit(X_train_tfidata, y_train)\n",
    "y_pred = NB.predict(X_test_tfidata)\n",
    "accuracy = accuracy_score(y_test, y_pred)\n",
    "print(accuracy)\n",
    "\n"
   ]
  },
  {
   "cell_type": "code",
   "execution_count": 41,
   "metadata": {},
   "outputs": [
    {
     "name": "stdout",
     "output_type": "stream",
     "text": [
      "              precision    recall  f1-score   support\n",
      "\n",
      "           0       1.00      1.00      1.00    175444\n",
      "           1       1.00      1.00      1.00      9834\n",
      "           2       1.00      0.75      0.86       453\n",
      "           3       0.95      0.95      0.95      1109\n",
      "\n",
      "    accuracy                           1.00    186840\n",
      "   macro avg       0.99      0.93      0.95    186840\n",
      "weighted avg       1.00      1.00      1.00    186840\n",
      "\n"
     ]
    }
   ],
   "source": [
    "print(classification_report(y_test, y_pred))"
   ]
  },
  {
   "cell_type": "code",
   "execution_count": 48,
   "metadata": {},
   "outputs": [
    {
     "name": "stdout",
     "output_type": "stream",
     "text": [
      "Naive Bayes Prediction: 3\n"
     ]
    }
   ],
   "source": [
    "def predict_category(sample_text):\n",
    "    sample_text_cleaned = clean_text(sample_text)\n",
    "    sample_vectorized = vectorizer.transform([sample_text_cleaned])\n",
    "    prediction = NB.predict(sample_vectorized)[0]\n",
    "    print(f\"Naive Bayes Prediction: {prediction}\")\n",
    "\n",
    "# Example sample input\n",
    "sample_input_NB = \"Trouble during payment process\"\n",
    "predict_category(sample_input_NB)"
   ]
  },
  {
   "cell_type": "code",
   "execution_count": 54,
   "metadata": {},
   "outputs": [
    {
     "name": "stdout",
     "output_type": "stream",
     "text": [
      "NB_predictions saved\n"
     ]
    }
   ],
   "source": [
    "output_data = X_test.to_frame()\n",
    "output_data['Actual'] = y_test.values\n",
    "output_data['Predicted'] = y_pred\n",
    "output_data.to_csv(f\"predictions_NB.csv\", index=False)\n",
    "print(\"NB_predictions saved\")"
   ]
  },
  {
   "cell_type": "markdown",
   "metadata": {},
   "source": [
    "RANDOM FOREST"
   ]
  },
  {
   "cell_type": "code",
   "execution_count": 42,
   "metadata": {},
   "outputs": [
    {
     "name": "stdout",
     "output_type": "stream",
     "text": [
      "0.999421965317919\n"
     ]
    }
   ],
   "source": [
    "RF = RandomForestClassifier(n_estimators=100, random_state=42)\n",
    "RF.fit(X_train_tfidata, y_train)\n",
    "y_pred = RF.predict(X_test_tfidata)\n",
    "accuracy = accuracy_score(y_test, y_pred)\n",
    "print(accuracy)\n"
   ]
  },
  {
   "cell_type": "code",
   "execution_count": 43,
   "metadata": {},
   "outputs": [
    {
     "name": "stdout",
     "output_type": "stream",
     "text": [
      "              precision    recall  f1-score   support\n",
      "\n",
      "           0       1.00      1.00      1.00    175444\n",
      "           1       1.00      1.00      1.00      9834\n",
      "           2       1.00      0.88      0.93       453\n",
      "           3       1.00      0.95      0.98      1109\n",
      "\n",
      "    accuracy                           1.00    186840\n",
      "   macro avg       1.00      0.96      0.98    186840\n",
      "weighted avg       1.00      1.00      1.00    186840\n",
      "\n"
     ]
    }
   ],
   "source": [
    "print(classification_report(y_test, y_pred))"
   ]
  },
  {
   "cell_type": "code",
   "execution_count": 49,
   "metadata": {},
   "outputs": [
    {
     "name": "stdout",
     "output_type": "stream",
     "text": [
      "Random Forest Prediction: 3\n"
     ]
    }
   ],
   "source": [
    "def predict_category(sample_text):\n",
    "    sample_text_cleaned = clean_text(sample_text)\n",
    "    sample_vectorized = vectorizer.transform([sample_text_cleaned])\n",
    "    prediction = RF.predict(sample_vectorized)[0]\n",
    "    print(f\"Random Forest Prediction: {prediction}\")\n",
    "\n",
    "# Example sample input\n",
    "sample_input_RF = \"Trouble during payment process\"\n",
    "predict_category(sample_input_RF)"
   ]
  },
  {
   "cell_type": "code",
   "execution_count": 55,
   "metadata": {},
   "outputs": [
    {
     "name": "stdout",
     "output_type": "stream",
     "text": [
      "RF_predictions saved\n"
     ]
    }
   ],
   "source": [
    "output_data = X_test.to_frame()\n",
    "output_data['Actual'] = y_test.values\n",
    "output_data['Predicted'] = y_pred\n",
    "output_data.to_csv(f\"predictions_RF.csv\", index=False)\n",
    "print(\"RF_predictions saved\")"
   ]
  },
  {
   "cell_type": "markdown",
   "metadata": {},
   "source": [
    "SUPPORT VECTOR MACHINE"
   ]
  },
  {
   "cell_type": "code",
   "execution_count": 44,
   "metadata": {},
   "outputs": [
    {
     "name": "stdout",
     "output_type": "stream",
     "text": [
      "0.9994166131449368\n"
     ]
    }
   ],
   "source": [
    "SVM = SVC(kernel='linear')\n",
    "SVM.fit(X_train_tfidata, y_train)\n",
    "y_pred = SVM.predict(X_test_tfidata)\n",
    "accuracy = accuracy_score(y_test, y_pred)\n",
    "print(accuracy)"
   ]
  },
  {
   "cell_type": "code",
   "execution_count": 45,
   "metadata": {},
   "outputs": [
    {
     "name": "stdout",
     "output_type": "stream",
     "text": [
      "              precision    recall  f1-score   support\n",
      "\n",
      "           0       1.00      1.00      1.00    175444\n",
      "           1       1.00      1.00      1.00      9834\n",
      "           2       1.00      0.88      0.93       453\n",
      "           3       1.00      0.95      0.98      1109\n",
      "\n",
      "    accuracy                           1.00    186840\n",
      "   macro avg       1.00      0.96      0.98    186840\n",
      "weighted avg       1.00      1.00      1.00    186840\n",
      "\n"
     ]
    }
   ],
   "source": [
    "print(classification_report(y_test, y_pred))"
   ]
  },
  {
   "cell_type": "code",
   "execution_count": 51,
   "metadata": {},
   "outputs": [
    {
     "name": "stdout",
     "output_type": "stream",
     "text": [
      "Support Vector Machines Prediction: 3\n"
     ]
    }
   ],
   "source": [
    "def predict_category(sample_text):\n",
    "    sample_text_cleaned = clean_text(sample_text)\n",
    "    sample_vectorized = vectorizer.transform([sample_text_cleaned])\n",
    "    prediction = SVM.predict(sample_vectorized)[0]\n",
    "    print(f\"Support Vector Machines Prediction: {prediction}\")\n",
    "\n",
    "# Example sample input\n",
    "sample_input_SVM = \"Trouble during payment process\"\n",
    "predict_category(sample_input_SVM)\n"
   ]
  },
  {
   "cell_type": "code",
   "execution_count": 56,
   "metadata": {},
   "outputs": [
    {
     "name": "stdout",
     "output_type": "stream",
     "text": [
      "SVM_predictions saved\n"
     ]
    }
   ],
   "source": [
    "output_data = X_test.to_frame()\n",
    "output_data['Actual'] = y_test.values\n",
    "output_data['Predicted'] = y_pred\n",
    "output_data.to_csv(f\"predictions_SVM.csv\", index=False)\n",
    "print(\"SVM_predictions saved\")"
   ]
  }
 ],
 "metadata": {
  "kernelspec": {
   "display_name": "Python [conda env:base] *",
   "language": "python",
   "name": "conda-base-py"
  },
  "language_info": {
   "codemirror_mode": {
    "name": "ipython",
    "version": 3
   },
   "file_extension": ".py",
   "mimetype": "text/x-python",
   "name": "python",
   "nbconvert_exporter": "python",
   "pygments_lexer": "ipython3",
   "version": "3.12.7"
  }
 },
 "nbformat": 4,
 "nbformat_minor": 4
}
